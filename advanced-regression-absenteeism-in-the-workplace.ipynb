{
 "cells": [
  {
   "cell_type": "code",
   "execution_count": 1,
   "id": "db055bec",
   "metadata": {
    "execution": {
     "iopub.execute_input": "2022-08-11T03:00:24.700508Z",
     "iopub.status.busy": "2022-08-11T03:00:24.699828Z",
     "iopub.status.idle": "2022-08-11T03:00:26.261003Z",
     "shell.execute_reply": "2022-08-11T03:00:26.259803Z"
    },
    "papermill": {
     "duration": 1.57702,
     "end_time": "2022-08-11T03:00:26.264008",
     "exception": false,
     "start_time": "2022-08-11T03:00:24.686988",
     "status": "completed"
    },
    "tags": []
   },
   "outputs": [],
   "source": [
    "# Advanced Regressions\n",
    "\n",
    "import pandas as pd\n",
    "import os\n",
    "import numpy as np\n",
    "import matplotlib.pyplot as plt\n",
    "import seaborn as sns\n",
    "import scipy.stats as scipy\n",
    "from numpy import mean\n",
    "from numpy import std\n",
    "\n",
    "#classification models\n",
    "from sklearn.linear_model import LogisticRegression\n",
    "from sklearn.linear_model import Ridge\n",
    "from sklearn.linear_model import Lasso\n",
    "from sklearn.linear_model import ElasticNet\n",
    "from sklearn.neighbors import KNeighborsRegressor\n",
    "from sklearn.tree import DecisionTreeRegressor\n",
    "from sklearn.svm import SVR\n",
    "from sklearn.svm import SVC\n",
    "from sklearn.ensemble import RandomForestRegressor\n",
    "from sklearn.tree import DecisionTreeClassifier\n",
    "from sklearn.naive_bayes import GaussianNB\n",
    "from sklearn.neural_network import MLPClassifier\n",
    "from sklearn import linear_model\n",
    "#Import scikit-learn metrics module for accuracy calculations\n",
    "from sklearn import metrics\n",
    "#Import train_test_split function\n",
    "from sklearn.model_selection import train_test_split\n",
    "from matplotlib import pyplot\n",
    "from scipy.stats import gaussian_kde\n",
    "from scipy.stats import pearsonr\n",
    "from sklearn.metrics import mean_squared_error\n",
    "from sklearn.metrics import r2_score\n",
    "from math import sqrt"
   ]
  },
  {
   "cell_type": "code",
   "execution_count": 2,
   "id": "8b39b4d2",
   "metadata": {
    "execution": {
     "iopub.execute_input": "2022-08-11T03:00:26.285382Z",
     "iopub.status.busy": "2022-08-11T03:00:26.284552Z",
     "iopub.status.idle": "2022-08-11T03:00:26.331584Z",
     "shell.execute_reply": "2022-08-11T03:00:26.330353Z"
    },
    "papermill": {
     "duration": 0.060373,
     "end_time": "2022-08-11T03:00:26.334226",
     "exception": false,
     "start_time": "2022-08-11T03:00:26.273853",
     "status": "completed"
    },
    "tags": []
   },
   "outputs": [
    {
     "data": {
      "text/html": [
       "<div>\n",
       "<style scoped>\n",
       "    .dataframe tbody tr th:only-of-type {\n",
       "        vertical-align: middle;\n",
       "    }\n",
       "\n",
       "    .dataframe tbody tr th {\n",
       "        vertical-align: top;\n",
       "    }\n",
       "\n",
       "    .dataframe thead th {\n",
       "        text-align: right;\n",
       "    }\n",
       "</style>\n",
       "<table border=\"1\" class=\"dataframe\">\n",
       "  <thead>\n",
       "    <tr style=\"text-align: right;\">\n",
       "      <th></th>\n",
       "      <th>ID</th>\n",
       "      <th>Reason for absence</th>\n",
       "      <th>Month of absence</th>\n",
       "      <th>Day of the week</th>\n",
       "      <th>Seasons</th>\n",
       "      <th>Transportation expense</th>\n",
       "      <th>Distance from Residence to Work</th>\n",
       "      <th>Service time</th>\n",
       "      <th>Age</th>\n",
       "      <th>Work load Average/day</th>\n",
       "      <th>...</th>\n",
       "      <th>Disciplinary failure</th>\n",
       "      <th>Education</th>\n",
       "      <th>Son</th>\n",
       "      <th>Social drinker</th>\n",
       "      <th>Social smoker</th>\n",
       "      <th>Pet</th>\n",
       "      <th>Weight</th>\n",
       "      <th>Height</th>\n",
       "      <th>Body mass index</th>\n",
       "      <th>Absenteeism time in hours</th>\n",
       "    </tr>\n",
       "  </thead>\n",
       "  <tbody>\n",
       "    <tr>\n",
       "      <th>0</th>\n",
       "      <td>11</td>\n",
       "      <td>26</td>\n",
       "      <td>7</td>\n",
       "      <td>3</td>\n",
       "      <td>1</td>\n",
       "      <td>289</td>\n",
       "      <td>36</td>\n",
       "      <td>13</td>\n",
       "      <td>33</td>\n",
       "      <td>239,554</td>\n",
       "      <td>...</td>\n",
       "      <td>0</td>\n",
       "      <td>1</td>\n",
       "      <td>2</td>\n",
       "      <td>1</td>\n",
       "      <td>0</td>\n",
       "      <td>1</td>\n",
       "      <td>90</td>\n",
       "      <td>172</td>\n",
       "      <td>30</td>\n",
       "      <td>4</td>\n",
       "    </tr>\n",
       "    <tr>\n",
       "      <th>1</th>\n",
       "      <td>36</td>\n",
       "      <td>0</td>\n",
       "      <td>7</td>\n",
       "      <td>3</td>\n",
       "      <td>1</td>\n",
       "      <td>118</td>\n",
       "      <td>13</td>\n",
       "      <td>18</td>\n",
       "      <td>50</td>\n",
       "      <td>239,554</td>\n",
       "      <td>...</td>\n",
       "      <td>1</td>\n",
       "      <td>1</td>\n",
       "      <td>1</td>\n",
       "      <td>1</td>\n",
       "      <td>0</td>\n",
       "      <td>0</td>\n",
       "      <td>98</td>\n",
       "      <td>178</td>\n",
       "      <td>31</td>\n",
       "      <td>0</td>\n",
       "    </tr>\n",
       "    <tr>\n",
       "      <th>2</th>\n",
       "      <td>3</td>\n",
       "      <td>23</td>\n",
       "      <td>7</td>\n",
       "      <td>4</td>\n",
       "      <td>1</td>\n",
       "      <td>179</td>\n",
       "      <td>51</td>\n",
       "      <td>18</td>\n",
       "      <td>38</td>\n",
       "      <td>239,554</td>\n",
       "      <td>...</td>\n",
       "      <td>0</td>\n",
       "      <td>1</td>\n",
       "      <td>0</td>\n",
       "      <td>1</td>\n",
       "      <td>0</td>\n",
       "      <td>0</td>\n",
       "      <td>89</td>\n",
       "      <td>170</td>\n",
       "      <td>31</td>\n",
       "      <td>2</td>\n",
       "    </tr>\n",
       "    <tr>\n",
       "      <th>3</th>\n",
       "      <td>7</td>\n",
       "      <td>7</td>\n",
       "      <td>7</td>\n",
       "      <td>5</td>\n",
       "      <td>1</td>\n",
       "      <td>279</td>\n",
       "      <td>5</td>\n",
       "      <td>14</td>\n",
       "      <td>39</td>\n",
       "      <td>239,554</td>\n",
       "      <td>...</td>\n",
       "      <td>0</td>\n",
       "      <td>1</td>\n",
       "      <td>2</td>\n",
       "      <td>1</td>\n",
       "      <td>1</td>\n",
       "      <td>0</td>\n",
       "      <td>68</td>\n",
       "      <td>168</td>\n",
       "      <td>24</td>\n",
       "      <td>4</td>\n",
       "    </tr>\n",
       "    <tr>\n",
       "      <th>4</th>\n",
       "      <td>11</td>\n",
       "      <td>23</td>\n",
       "      <td>7</td>\n",
       "      <td>5</td>\n",
       "      <td>1</td>\n",
       "      <td>289</td>\n",
       "      <td>36</td>\n",
       "      <td>13</td>\n",
       "      <td>33</td>\n",
       "      <td>239,554</td>\n",
       "      <td>...</td>\n",
       "      <td>0</td>\n",
       "      <td>1</td>\n",
       "      <td>2</td>\n",
       "      <td>1</td>\n",
       "      <td>0</td>\n",
       "      <td>1</td>\n",
       "      <td>90</td>\n",
       "      <td>172</td>\n",
       "      <td>30</td>\n",
       "      <td>2</td>\n",
       "    </tr>\n",
       "  </tbody>\n",
       "</table>\n",
       "<p>5 rows × 21 columns</p>\n",
       "</div>"
      ],
      "text/plain": [
       "   ID  Reason for absence  Month of absence  Day of the week  Seasons  \\\n",
       "0  11                  26                 7                3        1   \n",
       "1  36                   0                 7                3        1   \n",
       "2   3                  23                 7                4        1   \n",
       "3   7                   7                 7                5        1   \n",
       "4  11                  23                 7                5        1   \n",
       "\n",
       "   Transportation expense  Distance from Residence to Work  Service time  Age  \\\n",
       "0                     289                               36            13   33   \n",
       "1                     118                               13            18   50   \n",
       "2                     179                               51            18   38   \n",
       "3                     279                                5            14   39   \n",
       "4                     289                               36            13   33   \n",
       "\n",
       "  Work load Average/day   ...  Disciplinary failure  Education  Son  \\\n",
       "0                239,554  ...                     0          1    2   \n",
       "1                239,554  ...                     1          1    1   \n",
       "2                239,554  ...                     0          1    0   \n",
       "3                239,554  ...                     0          1    2   \n",
       "4                239,554  ...                     0          1    2   \n",
       "\n",
       "   Social drinker  Social smoker  Pet  Weight  Height  Body mass index  \\\n",
       "0               1              0    1      90     172               30   \n",
       "1               1              0    0      98     178               31   \n",
       "2               1              0    0      89     170               31   \n",
       "3               1              1    0      68     168               24   \n",
       "4               1              0    1      90     172               30   \n",
       "\n",
       "   Absenteeism time in hours  \n",
       "0                          4  \n",
       "1                          0  \n",
       "2                          2  \n",
       "3                          4  \n",
       "4                          2  \n",
       "\n",
       "[5 rows x 21 columns]"
      ]
     },
     "execution_count": 2,
     "metadata": {},
     "output_type": "execute_result"
    }
   ],
   "source": [
    "# Read-in data\n",
    "os.getcwd()\n",
    "absent = pd.read_csv(\"../input/absenteeism-at-work/absenteeism_at_work_cleansed.csv\")\n",
    "absent.head()"
   ]
  },
  {
   "cell_type": "markdown",
   "id": "7f006641",
   "metadata": {
    "papermill": {
     "duration": 0.009361,
     "end_time": "2022-08-11T03:00:26.353558",
     "exception": false,
     "start_time": "2022-08-11T03:00:26.344197",
     "status": "completed"
    },
    "tags": []
   },
   "source": [
    "**Review of Data Set**"
   ]
  },
  {
   "cell_type": "code",
   "execution_count": 3,
   "id": "6a1fa667",
   "metadata": {
    "execution": {
     "iopub.execute_input": "2022-08-11T03:00:26.374783Z",
     "iopub.status.busy": "2022-08-11T03:00:26.374352Z",
     "iopub.status.idle": "2022-08-11T03:00:26.380343Z",
     "shell.execute_reply": "2022-08-11T03:00:26.379413Z"
    },
    "papermill": {
     "duration": 0.019151,
     "end_time": "2022-08-11T03:00:26.382404",
     "exception": false,
     "start_time": "2022-08-11T03:00:26.363253",
     "status": "completed"
    },
    "tags": []
   },
   "outputs": [
    {
     "data": {
      "text/plain": [
       "(740, 21)"
      ]
     },
     "execution_count": 3,
     "metadata": {},
     "output_type": "execute_result"
    }
   ],
   "source": [
    "#Review data\n",
    "absent.shape\n",
    "# (740,21)"
   ]
  },
  {
   "cell_type": "code",
   "execution_count": 4,
   "id": "c4eb17d6",
   "metadata": {
    "execution": {
     "iopub.execute_input": "2022-08-11T03:00:26.405421Z",
     "iopub.status.busy": "2022-08-11T03:00:26.404770Z",
     "iopub.status.idle": "2022-08-11T03:00:26.412974Z",
     "shell.execute_reply": "2022-08-11T03:00:26.412186Z"
    },
    "papermill": {
     "duration": 0.021791,
     "end_time": "2022-08-11T03:00:26.415188",
     "exception": false,
     "start_time": "2022-08-11T03:00:26.393397",
     "status": "completed"
    },
    "tags": []
   },
   "outputs": [
    {
     "data": {
      "text/plain": [
       "ID                                 0\n",
       "Reason for absence                 0\n",
       "Month of absence                   0\n",
       "Day of the week                    0\n",
       "Seasons                            0\n",
       "Transportation expense             0\n",
       "Distance from Residence to Work    0\n",
       "Service time                       0\n",
       "Age                                0\n",
       "Work load Average/day              0\n",
       "Hit target                         0\n",
       "Disciplinary failure               0\n",
       "Education                          0\n",
       "Son                                0\n",
       "Social drinker                     0\n",
       "Social smoker                      0\n",
       "Pet                                0\n",
       "Weight                             0\n",
       "Height                             0\n",
       "Body mass index                    0\n",
       "Absenteeism time in hours          0\n",
       "dtype: int64"
      ]
     },
     "execution_count": 4,
     "metadata": {},
     "output_type": "execute_result"
    }
   ],
   "source": [
    "# To Check Null Values\n",
    "absent.isnull().sum()\n",
    "# No Nulls"
   ]
  },
  {
   "cell_type": "code",
   "execution_count": 5,
   "id": "9ea06352",
   "metadata": {
    "execution": {
     "iopub.execute_input": "2022-08-11T03:00:26.437203Z",
     "iopub.status.busy": "2022-08-11T03:00:26.436586Z",
     "iopub.status.idle": "2022-08-11T03:00:26.512130Z",
     "shell.execute_reply": "2022-08-11T03:00:26.510900Z"
    },
    "papermill": {
     "duration": 0.089248,
     "end_time": "2022-08-11T03:00:26.514443",
     "exception": false,
     "start_time": "2022-08-11T03:00:26.425195",
     "status": "completed"
    },
    "tags": []
   },
   "outputs": [
    {
     "data": {
      "text/html": [
       "<div>\n",
       "<style scoped>\n",
       "    .dataframe tbody tr th:only-of-type {\n",
       "        vertical-align: middle;\n",
       "    }\n",
       "\n",
       "    .dataframe tbody tr th {\n",
       "        vertical-align: top;\n",
       "    }\n",
       "\n",
       "    .dataframe thead th {\n",
       "        text-align: right;\n",
       "    }\n",
       "</style>\n",
       "<table border=\"1\" class=\"dataframe\">\n",
       "  <thead>\n",
       "    <tr style=\"text-align: right;\">\n",
       "      <th></th>\n",
       "      <th>ID</th>\n",
       "      <th>Reason for absence</th>\n",
       "      <th>Month of absence</th>\n",
       "      <th>Day of the week</th>\n",
       "      <th>Seasons</th>\n",
       "      <th>Transportation expense</th>\n",
       "      <th>Distance from Residence to Work</th>\n",
       "      <th>Service time</th>\n",
       "      <th>Age</th>\n",
       "      <th>Hit target</th>\n",
       "      <th>Disciplinary failure</th>\n",
       "      <th>Education</th>\n",
       "      <th>Son</th>\n",
       "      <th>Social drinker</th>\n",
       "      <th>Social smoker</th>\n",
       "      <th>Pet</th>\n",
       "      <th>Weight</th>\n",
       "      <th>Height</th>\n",
       "      <th>Body mass index</th>\n",
       "      <th>Absenteeism time in hours</th>\n",
       "    </tr>\n",
       "  </thead>\n",
       "  <tbody>\n",
       "    <tr>\n",
       "      <th>count</th>\n",
       "      <td>740.000000</td>\n",
       "      <td>740.000000</td>\n",
       "      <td>740.000000</td>\n",
       "      <td>740.000000</td>\n",
       "      <td>740.000000</td>\n",
       "      <td>740.000000</td>\n",
       "      <td>740.000000</td>\n",
       "      <td>740.000000</td>\n",
       "      <td>740.000000</td>\n",
       "      <td>740.000000</td>\n",
       "      <td>740.000000</td>\n",
       "      <td>740.000000</td>\n",
       "      <td>740.000000</td>\n",
       "      <td>740.000000</td>\n",
       "      <td>740.000000</td>\n",
       "      <td>740.000000</td>\n",
       "      <td>740.000000</td>\n",
       "      <td>740.000000</td>\n",
       "      <td>740.000000</td>\n",
       "      <td>740.000000</td>\n",
       "    </tr>\n",
       "    <tr>\n",
       "      <th>mean</th>\n",
       "      <td>18.017568</td>\n",
       "      <td>19.216216</td>\n",
       "      <td>6.324324</td>\n",
       "      <td>3.914865</td>\n",
       "      <td>2.544595</td>\n",
       "      <td>221.329730</td>\n",
       "      <td>29.631081</td>\n",
       "      <td>12.554054</td>\n",
       "      <td>36.450000</td>\n",
       "      <td>94.587838</td>\n",
       "      <td>0.054054</td>\n",
       "      <td>1.291892</td>\n",
       "      <td>1.018919</td>\n",
       "      <td>0.567568</td>\n",
       "      <td>0.072973</td>\n",
       "      <td>0.745946</td>\n",
       "      <td>79.035135</td>\n",
       "      <td>172.114865</td>\n",
       "      <td>26.677027</td>\n",
       "      <td>6.924324</td>\n",
       "    </tr>\n",
       "    <tr>\n",
       "      <th>std</th>\n",
       "      <td>11.021247</td>\n",
       "      <td>8.433406</td>\n",
       "      <td>3.436287</td>\n",
       "      <td>1.421675</td>\n",
       "      <td>1.111831</td>\n",
       "      <td>66.952223</td>\n",
       "      <td>14.836788</td>\n",
       "      <td>4.384873</td>\n",
       "      <td>6.478772</td>\n",
       "      <td>3.779313</td>\n",
       "      <td>0.226277</td>\n",
       "      <td>0.673238</td>\n",
       "      <td>1.098489</td>\n",
       "      <td>0.495749</td>\n",
       "      <td>0.260268</td>\n",
       "      <td>1.318258</td>\n",
       "      <td>12.883211</td>\n",
       "      <td>6.034995</td>\n",
       "      <td>4.285452</td>\n",
       "      <td>13.330998</td>\n",
       "    </tr>\n",
       "    <tr>\n",
       "      <th>min</th>\n",
       "      <td>1.000000</td>\n",
       "      <td>0.000000</td>\n",
       "      <td>0.000000</td>\n",
       "      <td>2.000000</td>\n",
       "      <td>1.000000</td>\n",
       "      <td>118.000000</td>\n",
       "      <td>5.000000</td>\n",
       "      <td>1.000000</td>\n",
       "      <td>27.000000</td>\n",
       "      <td>81.000000</td>\n",
       "      <td>0.000000</td>\n",
       "      <td>1.000000</td>\n",
       "      <td>0.000000</td>\n",
       "      <td>0.000000</td>\n",
       "      <td>0.000000</td>\n",
       "      <td>0.000000</td>\n",
       "      <td>56.000000</td>\n",
       "      <td>163.000000</td>\n",
       "      <td>19.000000</td>\n",
       "      <td>0.000000</td>\n",
       "    </tr>\n",
       "    <tr>\n",
       "      <th>25%</th>\n",
       "      <td>9.000000</td>\n",
       "      <td>13.000000</td>\n",
       "      <td>3.000000</td>\n",
       "      <td>3.000000</td>\n",
       "      <td>2.000000</td>\n",
       "      <td>179.000000</td>\n",
       "      <td>16.000000</td>\n",
       "      <td>9.000000</td>\n",
       "      <td>31.000000</td>\n",
       "      <td>93.000000</td>\n",
       "      <td>0.000000</td>\n",
       "      <td>1.000000</td>\n",
       "      <td>0.000000</td>\n",
       "      <td>0.000000</td>\n",
       "      <td>0.000000</td>\n",
       "      <td>0.000000</td>\n",
       "      <td>69.000000</td>\n",
       "      <td>169.000000</td>\n",
       "      <td>24.000000</td>\n",
       "      <td>2.000000</td>\n",
       "    </tr>\n",
       "    <tr>\n",
       "      <th>50%</th>\n",
       "      <td>18.000000</td>\n",
       "      <td>23.000000</td>\n",
       "      <td>6.000000</td>\n",
       "      <td>4.000000</td>\n",
       "      <td>3.000000</td>\n",
       "      <td>225.000000</td>\n",
       "      <td>26.000000</td>\n",
       "      <td>13.000000</td>\n",
       "      <td>37.000000</td>\n",
       "      <td>95.000000</td>\n",
       "      <td>0.000000</td>\n",
       "      <td>1.000000</td>\n",
       "      <td>1.000000</td>\n",
       "      <td>1.000000</td>\n",
       "      <td>0.000000</td>\n",
       "      <td>0.000000</td>\n",
       "      <td>83.000000</td>\n",
       "      <td>170.000000</td>\n",
       "      <td>25.000000</td>\n",
       "      <td>3.000000</td>\n",
       "    </tr>\n",
       "    <tr>\n",
       "      <th>75%</th>\n",
       "      <td>28.000000</td>\n",
       "      <td>26.000000</td>\n",
       "      <td>9.000000</td>\n",
       "      <td>5.000000</td>\n",
       "      <td>4.000000</td>\n",
       "      <td>260.000000</td>\n",
       "      <td>50.000000</td>\n",
       "      <td>16.000000</td>\n",
       "      <td>40.000000</td>\n",
       "      <td>97.000000</td>\n",
       "      <td>0.000000</td>\n",
       "      <td>1.000000</td>\n",
       "      <td>2.000000</td>\n",
       "      <td>1.000000</td>\n",
       "      <td>0.000000</td>\n",
       "      <td>1.000000</td>\n",
       "      <td>89.000000</td>\n",
       "      <td>172.000000</td>\n",
       "      <td>31.000000</td>\n",
       "      <td>8.000000</td>\n",
       "    </tr>\n",
       "    <tr>\n",
       "      <th>max</th>\n",
       "      <td>36.000000</td>\n",
       "      <td>28.000000</td>\n",
       "      <td>12.000000</td>\n",
       "      <td>6.000000</td>\n",
       "      <td>4.000000</td>\n",
       "      <td>388.000000</td>\n",
       "      <td>52.000000</td>\n",
       "      <td>29.000000</td>\n",
       "      <td>58.000000</td>\n",
       "      <td>100.000000</td>\n",
       "      <td>1.000000</td>\n",
       "      <td>4.000000</td>\n",
       "      <td>4.000000</td>\n",
       "      <td>1.000000</td>\n",
       "      <td>1.000000</td>\n",
       "      <td>8.000000</td>\n",
       "      <td>108.000000</td>\n",
       "      <td>196.000000</td>\n",
       "      <td>38.000000</td>\n",
       "      <td>120.000000</td>\n",
       "    </tr>\n",
       "  </tbody>\n",
       "</table>\n",
       "</div>"
      ],
      "text/plain": [
       "               ID  Reason for absence  Month of absence  Day of the week  \\\n",
       "count  740.000000          740.000000        740.000000       740.000000   \n",
       "mean    18.017568           19.216216          6.324324         3.914865   \n",
       "std     11.021247            8.433406          3.436287         1.421675   \n",
       "min      1.000000            0.000000          0.000000         2.000000   \n",
       "25%      9.000000           13.000000          3.000000         3.000000   \n",
       "50%     18.000000           23.000000          6.000000         4.000000   \n",
       "75%     28.000000           26.000000          9.000000         5.000000   \n",
       "max     36.000000           28.000000         12.000000         6.000000   \n",
       "\n",
       "          Seasons  Transportation expense  Distance from Residence to Work  \\\n",
       "count  740.000000              740.000000                       740.000000   \n",
       "mean     2.544595              221.329730                        29.631081   \n",
       "std      1.111831               66.952223                        14.836788   \n",
       "min      1.000000              118.000000                         5.000000   \n",
       "25%      2.000000              179.000000                        16.000000   \n",
       "50%      3.000000              225.000000                        26.000000   \n",
       "75%      4.000000              260.000000                        50.000000   \n",
       "max      4.000000              388.000000                        52.000000   \n",
       "\n",
       "       Service time         Age  Hit target  Disciplinary failure   Education  \\\n",
       "count    740.000000  740.000000  740.000000            740.000000  740.000000   \n",
       "mean      12.554054   36.450000   94.587838              0.054054    1.291892   \n",
       "std        4.384873    6.478772    3.779313              0.226277    0.673238   \n",
       "min        1.000000   27.000000   81.000000              0.000000    1.000000   \n",
       "25%        9.000000   31.000000   93.000000              0.000000    1.000000   \n",
       "50%       13.000000   37.000000   95.000000              0.000000    1.000000   \n",
       "75%       16.000000   40.000000   97.000000              0.000000    1.000000   \n",
       "max       29.000000   58.000000  100.000000              1.000000    4.000000   \n",
       "\n",
       "              Son  Social drinker  Social smoker         Pet      Weight  \\\n",
       "count  740.000000      740.000000     740.000000  740.000000  740.000000   \n",
       "mean     1.018919        0.567568       0.072973    0.745946   79.035135   \n",
       "std      1.098489        0.495749       0.260268    1.318258   12.883211   \n",
       "min      0.000000        0.000000       0.000000    0.000000   56.000000   \n",
       "25%      0.000000        0.000000       0.000000    0.000000   69.000000   \n",
       "50%      1.000000        1.000000       0.000000    0.000000   83.000000   \n",
       "75%      2.000000        1.000000       0.000000    1.000000   89.000000   \n",
       "max      4.000000        1.000000       1.000000    8.000000  108.000000   \n",
       "\n",
       "           Height  Body mass index  Absenteeism time in hours  \n",
       "count  740.000000       740.000000                 740.000000  \n",
       "mean   172.114865        26.677027                   6.924324  \n",
       "std      6.034995         4.285452                  13.330998  \n",
       "min    163.000000        19.000000                   0.000000  \n",
       "25%    169.000000        24.000000                   2.000000  \n",
       "50%    170.000000        25.000000                   3.000000  \n",
       "75%    172.000000        31.000000                   8.000000  \n",
       "max    196.000000        38.000000                 120.000000  "
      ]
     },
     "execution_count": 5,
     "metadata": {},
     "output_type": "execute_result"
    }
   ],
   "source": [
    "# Get Statistics from the data.\n",
    "absent.describe()"
   ]
  },
  {
   "cell_type": "code",
   "execution_count": 6,
   "id": "36a3f113",
   "metadata": {
    "execution": {
     "iopub.execute_input": "2022-08-11T03:00:26.538083Z",
     "iopub.status.busy": "2022-08-11T03:00:26.537070Z",
     "iopub.status.idle": "2022-08-11T03:00:26.562988Z",
     "shell.execute_reply": "2022-08-11T03:00:26.561331Z"
    },
    "papermill": {
     "duration": 0.04039,
     "end_time": "2022-08-11T03:00:26.565633",
     "exception": false,
     "start_time": "2022-08-11T03:00:26.525243",
     "status": "completed"
    },
    "tags": []
   },
   "outputs": [
    {
     "name": "stdout",
     "output_type": "stream",
     "text": [
      "                                       ID  Reason for absence  \\\n",
      "ID                               1.000000           -0.064245   \n",
      "Reason for absence              -0.064245            1.000000   \n",
      "Month of absence                -0.000043           -0.083858   \n",
      "Day of the week                  0.034468            0.116319   \n",
      "Seasons                          0.098495           -0.117925   \n",
      "Transportation expense          -0.224163           -0.119381   \n",
      "Distance from Residence to Work -0.486160            0.161831   \n",
      "Service time                    -0.272704            0.048425   \n",
      "Age                              0.040899           -0.078608   \n",
      "Hit target                       0.018789            0.088943   \n",
      "Disciplinary failure             0.004502           -0.545054   \n",
      "Education                       -0.036254           -0.047357   \n",
      "Son                              0.002767           -0.055364   \n",
      "Social drinker                  -0.451338            0.065441   \n",
      "Social smoker                   -0.010826           -0.115702   \n",
      "Pet                             -0.041418           -0.055911   \n",
      "Weight                          -0.254222           -0.000269   \n",
      "Height                           0.076363           -0.079267   \n",
      "Body mass index                 -0.306924            0.037205   \n",
      "Absenteeism time in hours       -0.017997           -0.173116   \n",
      "\n",
      "                                 Month of absence  Day of the week   Seasons  \\\n",
      "ID                                      -0.000043         0.034468  0.098495   \n",
      "Reason for absence                      -0.083858         0.116319 -0.117925   \n",
      "Month of absence                         1.000000        -0.006528  0.407770   \n",
      "Day of the week                         -0.006528         1.000000  0.046493   \n",
      "Seasons                                  0.407770         0.046493  1.000000   \n",
      "Transportation expense                   0.137525         0.033988  0.036995   \n",
      "Distance from Residence to Work         -0.003887         0.118026 -0.063108   \n",
      "Service time                            -0.062862         0.021252 -0.010904   \n",
      "Age                                     -0.001520         0.004459 -0.012089   \n",
      "Hit target                              -0.460453         0.030986 -0.061154   \n",
      "Disciplinary failure                     0.107946        -0.015120  0.151766   \n",
      "Education                               -0.066128         0.058516 -0.002951   \n",
      "Son                                      0.079031         0.098079  0.046950   \n",
      "Social drinker                           0.056226         0.041772 -0.045982   \n",
      "Social smoker                           -0.038603         0.013156 -0.048671   \n",
      "Pet                                      0.047787        -0.028885  0.012356   \n",
      "Weight                                   0.023278        -0.128980 -0.026278   \n",
      "Height                                  -0.068942        -0.082133 -0.033737   \n",
      "Body mass index                          0.051046        -0.103578 -0.011031   \n",
      "Absenteeism time in hours                0.024345        -0.124361 -0.005615   \n",
      "\n",
      "                                 Transportation expense  \\\n",
      "ID                                            -0.224163   \n",
      "Reason for absence                            -0.119381   \n",
      "Month of absence                               0.137525   \n",
      "Day of the week                                0.033988   \n",
      "Seasons                                        0.036995   \n",
      "Transportation expense                         1.000000   \n",
      "Distance from Residence to Work                0.262183   \n",
      "Service time                                  -0.349887   \n",
      "Age                                           -0.227542   \n",
      "Hit target                                    -0.080193   \n",
      "Disciplinary failure                           0.109222   \n",
      "Education                                     -0.055065   \n",
      "Son                                            0.383001   \n",
      "Social drinker                                 0.145117   \n",
      "Social smoker                                  0.044356   \n",
      "Pet                                            0.400080   \n",
      "Weight                                        -0.207435   \n",
      "Height                                        -0.194496   \n",
      "Body mass index                               -0.136517   \n",
      "Absenteeism time in hours                      0.027585   \n",
      "\n",
      "                                 Distance from Residence to Work  \\\n",
      "ID                                                     -0.486160   \n",
      "Reason for absence                                      0.161831   \n",
      "Month of absence                                       -0.003887   \n",
      "Day of the week                                         0.118026   \n",
      "Seasons                                                -0.063108   \n",
      "Transportation expense                                  0.262183   \n",
      "Distance from Residence to Work                         1.000000   \n",
      "Service time                                            0.131730   \n",
      "Age                                                    -0.145886   \n",
      "Hit target                                             -0.013865   \n",
      "Disciplinary failure                                   -0.056527   \n",
      "Education                                              -0.259605   \n",
      "Son                                                     0.054230   \n",
      "Social drinker                                          0.452196   \n",
      "Social smoker                                          -0.075369   \n",
      "Pet                                                     0.205941   \n",
      "Weight                                                 -0.047859   \n",
      "Height                                                 -0.353372   \n",
      "Body mass index                                         0.113772   \n",
      "Absenteeism time in hours                              -0.088363   \n",
      "\n",
      "                                 Service time       Age  Hit target  \\\n",
      "ID                                  -0.272704  0.040899    0.018789   \n",
      "Reason for absence                   0.048425 -0.078608    0.088943   \n",
      "Month of absence                    -0.062862 -0.001520   -0.460453   \n",
      "Day of the week                      0.021252  0.004459    0.030986   \n",
      "Seasons                             -0.010904 -0.012089   -0.061154   \n",
      "Transportation expense              -0.349887 -0.227542   -0.080193   \n",
      "Distance from Residence to Work      0.131730 -0.145886   -0.013865   \n",
      "Service time                         1.000000  0.670979   -0.007840   \n",
      "Age                                  0.670979  1.000000   -0.039224   \n",
      "Hit target                          -0.007840 -0.039224    1.000000   \n",
      "Disciplinary failure                -0.000221  0.104304   -0.147971   \n",
      "Education                           -0.213000 -0.221882    0.101062   \n",
      "Son                                 -0.047128  0.056984   -0.014091   \n",
      "Social drinker                       0.353141  0.213183   -0.102480   \n",
      "Social smoker                        0.072424  0.121738    0.051254   \n",
      "Pet                                 -0.440301 -0.231226    0.007201   \n",
      "Weight                               0.455975  0.418730   -0.044947   \n",
      "Height                              -0.053135 -0.062997    0.093267   \n",
      "Body mass index                      0.499718  0.470688   -0.088939   \n",
      "Absenteeism time in hours            0.019029  0.065760    0.026695   \n",
      "\n",
      "                                 Disciplinary failure  Education       Son  \\\n",
      "ID                                           0.004502  -0.036254  0.002767   \n",
      "Reason for absence                          -0.545054  -0.047357 -0.055364   \n",
      "Month of absence                             0.107946  -0.066128  0.079031   \n",
      "Day of the week                             -0.015120   0.058516  0.098079   \n",
      "Seasons                                      0.151766  -0.002951  0.046950   \n",
      "Transportation expense                       0.109222  -0.055065  0.383001   \n",
      "Distance from Residence to Work             -0.056527  -0.259605  0.054230   \n",
      "Service time                                -0.000221  -0.213000 -0.047128   \n",
      "Age                                          0.104304  -0.221882  0.056984   \n",
      "Hit target                                  -0.147971   0.101062 -0.014091   \n",
      "Disciplinary failure                         1.000000  -0.059298  0.072096   \n",
      "Education                                   -0.059298   1.000000 -0.188622   \n",
      "Son                                          0.072096  -0.188622  1.000000   \n",
      "Social drinker                               0.051838  -0.420013  0.206376   \n",
      "Social smoker                                0.116748   0.032727  0.156088   \n",
      "Pet                                          0.018881  -0.053554  0.108917   \n",
      "Weight                                       0.072225  -0.300574 -0.139552   \n",
      "Height                                      -0.010498   0.100977 -0.014208   \n",
      "Body mass index                              0.079428  -0.366884 -0.144150   \n",
      "Absenteeism time in hours                   -0.124248  -0.046235  0.113756   \n",
      "\n",
      "                                 Social drinker  Social smoker       Pet  \\\n",
      "ID                                    -0.451338      -0.010826 -0.041418   \n",
      "Reason for absence                     0.065441      -0.115702 -0.055911   \n",
      "Month of absence                       0.056226      -0.038603  0.047787   \n",
      "Day of the week                        0.041772       0.013156 -0.028885   \n",
      "Seasons                               -0.045982      -0.048671  0.012356   \n",
      "Transportation expense                 0.145117       0.044356  0.400080   \n",
      "Distance from Residence to Work        0.452196      -0.075369  0.205941   \n",
      "Service time                           0.353141       0.072424 -0.440301   \n",
      "Age                                    0.213183       0.121738 -0.231226   \n",
      "Hit target                            -0.102480       0.051254  0.007201   \n",
      "Disciplinary failure                   0.051838       0.116748  0.018881   \n",
      "Education                             -0.420013       0.032727 -0.053554   \n",
      "Son                                    0.206376       0.156088  0.108917   \n",
      "Social drinker                         1.000000      -0.111678 -0.122780   \n",
      "Social smoker                         -0.111678       1.000000  0.105379   \n",
      "Pet                                   -0.122780       0.105379  1.000000   \n",
      "Weight                                 0.378664      -0.198511 -0.103770   \n",
      "Height                                 0.169951       0.003271 -0.103143   \n",
      "Body mass index                        0.323978      -0.196006 -0.076103   \n",
      "Absenteeism time in hours              0.065067      -0.008936 -0.028277   \n",
      "\n",
      "                                   Weight    Height  Body mass index  \\\n",
      "ID                              -0.254222  0.076363        -0.306924   \n",
      "Reason for absence              -0.000269 -0.079267         0.037205   \n",
      "Month of absence                 0.023278 -0.068942         0.051046   \n",
      "Day of the week                 -0.128980 -0.082133        -0.103578   \n",
      "Seasons                         -0.026278 -0.033737        -0.011031   \n",
      "Transportation expense          -0.207435 -0.194496        -0.136517   \n",
      "Distance from Residence to Work -0.047859 -0.353372         0.113772   \n",
      "Service time                     0.455975 -0.053135         0.499718   \n",
      "Age                              0.418730 -0.062997         0.470688   \n",
      "Hit target                      -0.044947  0.093267        -0.088939   \n",
      "Disciplinary failure             0.072225 -0.010498         0.079428   \n",
      "Education                       -0.300574  0.100977        -0.366884   \n",
      "Son                             -0.139552 -0.014208        -0.144150   \n",
      "Social drinker                   0.378664  0.169951         0.323978   \n",
      "Social smoker                   -0.198511  0.003271        -0.196006   \n",
      "Pet                             -0.103770 -0.103143        -0.076103   \n",
      "Weight                           1.000000  0.306802         0.904117   \n",
      "Height                           0.306802  1.000000        -0.121049   \n",
      "Body mass index                  0.904117 -0.121049         1.000000   \n",
      "Absenteeism time in hours        0.015789  0.144420        -0.049719   \n",
      "\n",
      "                                 Absenteeism time in hours  \n",
      "ID                                               -0.017997  \n",
      "Reason for absence                               -0.173116  \n",
      "Month of absence                                  0.024345  \n",
      "Day of the week                                  -0.124361  \n",
      "Seasons                                          -0.005615  \n",
      "Transportation expense                            0.027585  \n",
      "Distance from Residence to Work                  -0.088363  \n",
      "Service time                                      0.019029  \n",
      "Age                                               0.065760  \n",
      "Hit target                                        0.026695  \n",
      "Disciplinary failure                             -0.124248  \n",
      "Education                                        -0.046235  \n",
      "Son                                               0.113756  \n",
      "Social drinker                                    0.065067  \n",
      "Social smoker                                    -0.008936  \n",
      "Pet                                              -0.028277  \n",
      "Weight                                            0.015789  \n",
      "Height                                            0.144420  \n",
      "Body mass index                                  -0.049719  \n",
      "Absenteeism time in hours                         1.000000  \n"
     ]
    }
   ],
   "source": [
    "#Identify correlation\n",
    "corr = absent.corr()\n",
    "print(corr)"
   ]
  },
  {
   "cell_type": "code",
   "execution_count": 7,
   "id": "452c49e3",
   "metadata": {
    "execution": {
     "iopub.execute_input": "2022-08-11T03:00:26.589935Z",
     "iopub.status.busy": "2022-08-11T03:00:26.588860Z",
     "iopub.status.idle": "2022-08-11T03:00:26.598422Z",
     "shell.execute_reply": "2022-08-11T03:00:26.597272Z"
    },
    "papermill": {
     "duration": 0.02438,
     "end_time": "2022-08-11T03:00:26.601101",
     "exception": false,
     "start_time": "2022-08-11T03:00:26.576721",
     "status": "completed"
    },
    "tags": []
   },
   "outputs": [
    {
     "name": "stdout",
     "output_type": "stream",
     "text": [
      "ID                                 0.016606\n",
      "Reason for absence                -0.915312\n",
      "Month of absence                   0.069369\n",
      "Day of the week                    0.102440\n",
      "Seasons                           -0.038532\n",
      "Transportation expense             0.396189\n",
      "Distance from Residence to Work    0.312083\n",
      "Service time                      -0.004720\n",
      "Age                                0.697703\n",
      "Hit target                        -1.261708\n",
      "Disciplinary failure               3.952270\n",
      "Education                          2.108953\n",
      "Son                                1.086465\n",
      "Social drinker                    -0.273327\n",
      "Social smoker                      3.290333\n",
      "Pet                                2.735715\n",
      "Weight                             0.017001\n",
      "Height                             2.566060\n",
      "Body mass index                    0.305046\n",
      "Absenteeism time in hours          5.720728\n",
      "dtype: float64\n"
     ]
    },
    {
     "name": "stderr",
     "output_type": "stream",
     "text": [
      "/opt/conda/lib/python3.7/site-packages/ipykernel_launcher.py:2: FutureWarning: Dropping of nuisance columns in DataFrame reductions (with 'numeric_only=None') is deprecated; in a future version this will raise TypeError.  Select only valid columns before calling the reduction.\n",
      "  \n"
     ]
    }
   ],
   "source": [
    "# Check the skewness value. This should be between -1 and +1. Any deviation from this indicates extreme values\n",
    "print(absent.skew())"
   ]
  },
  {
   "cell_type": "code",
   "execution_count": 8,
   "id": "06c6d781",
   "metadata": {
    "execution": {
     "iopub.execute_input": "2022-08-11T03:00:26.624900Z",
     "iopub.status.busy": "2022-08-11T03:00:26.624132Z",
     "iopub.status.idle": "2022-08-11T03:00:28.550423Z",
     "shell.execute_reply": "2022-08-11T03:00:28.549006Z"
    },
    "papermill": {
     "duration": 1.941439,
     "end_time": "2022-08-11T03:00:28.553329",
     "exception": false,
     "start_time": "2022-08-11T03:00:26.611890",
     "status": "completed"
    },
    "tags": []
   },
   "outputs": [
    {
     "data": {
      "image/png": "[encoded data removed]",
      "text/plain": [
       "<Figure size 432x288 with 2 Axes>"
      ]
     },
     "metadata": {
      "needs_background": "light"
     },
     "output_type": "display_data"
    }
   ],
   "source": [
    "# Create a heatmap\n",
    "sns.heatmap(corr, annot=True, linewidth = 0.1, cmap = 'coolwarm', annot_kws={\"fontsize\":2})\n",
    "plt.show()"
   ]
  },
  {
   "cell_type": "code",
   "execution_count": 9,
   "id": "e30fe457",
   "metadata": {
    "execution": {
     "iopub.execute_input": "2022-08-11T03:00:28.579198Z",
     "iopub.status.busy": "2022-08-11T03:00:28.578746Z",
     "iopub.status.idle": "2022-08-11T03:00:28.724903Z",
     "shell.execute_reply": "2022-08-11T03:00:28.723630Z"
    },
    "papermill": {
     "duration": 0.162888,
     "end_time": "2022-08-11T03:00:28.728342",
     "exception": false,
     "start_time": "2022-08-11T03:00:28.565454",
     "status": "completed"
    },
    "tags": []
   },
   "outputs": [
    {
     "data": {
      "image/png": "[encoded data removed]",
      "text/plain": [
       "<Figure size 432x288 with 1 Axes>"
      ]
     },
     "metadata": {
      "needs_background": "light"
     },
     "output_type": "display_data"
    }
   ],
   "source": [
    "# Show the Absenteeism time in hours in box plot for outliers\n",
    "\n",
    "plt.boxplot(absent['Absenteeism time in hours'])\n",
    "plt.show()"
   ]
  },
  {
   "cell_type": "markdown",
   "id": "227f5b16",
   "metadata": {
    "papermill": {
     "duration": 0.01197,
     "end_time": "2022-08-11T03:00:28.753198",
     "exception": false,
     "start_time": "2022-08-11T03:00:28.741228",
     "status": "completed"
    },
    "tags": []
   },
   "source": [
    "**Understanding Outliers**"
   ]
  },
  {
   "cell_type": "code",
   "execution_count": 10,
   "id": "95f6e1db",
   "metadata": {
    "execution": {
     "iopub.execute_input": "2022-08-11T03:00:28.779777Z",
     "iopub.status.busy": "2022-08-11T03:00:28.779011Z",
     "iopub.status.idle": "2022-08-11T03:00:28.788353Z",
     "shell.execute_reply": "2022-08-11T03:00:28.786590Z"
    },
    "papermill": {
     "duration": 0.026013,
     "end_time": "2022-08-11T03:00:28.791294",
     "exception": false,
     "start_time": "2022-08-11T03:00:28.765281",
     "status": "completed"
    },
    "tags": []
   },
   "outputs": [
    {
     "name": "stdout",
     "output_type": "stream",
     "text": [
      "1.0\n",
      "8.0\n"
     ]
    }
   ],
   "source": [
    "# Outlier treatment (Quantile-Based Flooring & Capping) - Absenteeism time in hours\n",
    "\n",
    "print(absent['Absenteeism time in hours'].quantile(0.10))\n",
    "print(absent['Absenteeism time in hours'].quantile(0.90))"
   ]
  },
  {
   "cell_type": "code",
   "execution_count": 11,
   "id": "0350ae5b",
   "metadata": {
    "execution": {
     "iopub.execute_input": "2022-08-11T03:00:28.818489Z",
     "iopub.status.busy": "2022-08-11T03:00:28.817770Z",
     "iopub.status.idle": "2022-08-11T03:00:28.828304Z",
     "shell.execute_reply": "2022-08-11T03:00:28.826975Z"
    },
    "papermill": {
     "duration": 0.027592,
     "end_time": "2022-08-11T03:00:28.831599",
     "exception": false,
     "start_time": "2022-08-11T03:00:28.804007",
     "status": "completed"
    },
    "tags": []
   },
   "outputs": [
    {
     "name": "stdout",
     "output_type": "stream",
     "text": [
      "0.31388876890872025\n"
     ]
    }
   ],
   "source": [
    "# Removing the outliers (Absenteeism time in hours)\n",
    "absent[\"Absenteeism time in hours\"] = np.where(absent[\"Absenteeism time in hours\"] <1.0, 1.0,absent['Absenteeism time in hours'])\n",
    "absent[\"Absenteeism time in hours\"] = np.where(absent[\"Absenteeism time in hours\"] >8.0, 8.0,absent['Absenteeism time in hours'])\n",
    "print(absent[\"Absenteeism time in hours\"].skew())"
   ]
  },
  {
   "cell_type": "code",
   "execution_count": 12,
   "id": "08c5e1ff",
   "metadata": {
    "execution": {
     "iopub.execute_input": "2022-08-11T03:00:28.859220Z",
     "iopub.status.busy": "2022-08-11T03:00:28.858155Z",
     "iopub.status.idle": "2022-08-11T03:00:28.867376Z",
     "shell.execute_reply": "2022-08-11T03:00:28.866535Z"
    },
    "papermill": {
     "duration": 0.025715,
     "end_time": "2022-08-11T03:00:28.870159",
     "exception": false,
     "start_time": "2022-08-11T03:00:28.844444",
     "status": "completed"
    },
    "tags": []
   },
   "outputs": [
    {
     "name": "stdout",
     "output_type": "stream",
     "text": [
      "ID                                 0.016606\n",
      "Reason for absence                -0.915312\n",
      "Month of absence                   0.069369\n",
      "Day of the week                    0.102440\n",
      "Seasons                           -0.038532\n",
      "Transportation expense             0.396189\n",
      "Distance from Residence to Work    0.312083\n",
      "Service time                      -0.004720\n",
      "Age                                0.697703\n",
      "Hit target                        -1.261708\n",
      "Disciplinary failure               3.952270\n",
      "Education                          2.108953\n",
      "Son                                1.086465\n",
      "Social drinker                    -0.273327\n",
      "Social smoker                      3.290333\n",
      "Pet                                2.735715\n",
      "Weight                             0.017001\n",
      "Height                             2.566060\n",
      "Body mass index                    0.305046\n",
      "Absenteeism time in hours          0.313889\n",
      "dtype: float64\n"
     ]
    },
    {
     "name": "stderr",
     "output_type": "stream",
     "text": [
      "/opt/conda/lib/python3.7/site-packages/ipykernel_launcher.py:2: FutureWarning: Dropping of nuisance columns in DataFrame reductions (with 'numeric_only=None') is deprecated; in a future version this will raise TypeError.  Select only valid columns before calling the reduction.\n",
      "  \n"
     ]
    }
   ],
   "source": [
    "# Check the skewness value. This should be between -1 and +1. Any deviation from this indicates extrem values\n",
    "print(absent.skew())"
   ]
  },
  {
   "cell_type": "code",
   "execution_count": 13,
   "id": "68daf00a",
   "metadata": {
    "execution": {
     "iopub.execute_input": "2022-08-11T03:00:28.897247Z",
     "iopub.status.busy": "2022-08-11T03:00:28.896675Z",
     "iopub.status.idle": "2022-08-11T03:00:28.902257Z",
     "shell.execute_reply": "2022-08-11T03:00:28.901335Z"
    },
    "papermill": {
     "duration": 0.021859,
     "end_time": "2022-08-11T03:00:28.904515",
     "exception": false,
     "start_time": "2022-08-11T03:00:28.882656",
     "status": "completed"
    },
    "tags": []
   },
   "outputs": [],
   "source": [
    "# Months of absence & Seasons Correlation Ration -  0.40\n",
    "# Pet & Transportation Expense – 0.40\n",
    "# Transportation Expense & Distance from residence to Work – 0.26\n",
    "# Transportation Expense & Son – 0.38\n",
    "# Weight & Social Drinking - 0.37\n",
    "# Service TIme & Weight – 0.45\n",
    "# Service Time & Body Mass Index – 0.49\n",
    "# Body Mass index & Weight - 0.90"
   ]
  },
  {
   "cell_type": "markdown",
   "id": "47f8158f",
   "metadata": {
    "papermill": {
     "duration": 0.012522,
     "end_time": "2022-08-11T03:00:28.929530",
     "exception": false,
     "start_time": "2022-08-11T03:00:28.917008",
     "status": "completed"
    },
    "tags": []
   },
   "source": [
    "**Set Variables for Predictions**"
   ]
  },
  {
   "cell_type": "code",
   "execution_count": 14,
   "id": "754ba47e",
   "metadata": {
    "execution": {
     "iopub.execute_input": "2022-08-11T03:00:28.956659Z",
     "iopub.status.busy": "2022-08-11T03:00:28.955836Z",
     "iopub.status.idle": "2022-08-11T03:00:28.962135Z",
     "shell.execute_reply": "2022-08-11T03:00:28.961205Z"
    },
    "papermill": {
     "duration": 0.022731,
     "end_time": "2022-08-11T03:00:28.964588",
     "exception": false,
     "start_time": "2022-08-11T03:00:28.941857",
     "status": "completed"
    },
    "tags": []
   },
   "outputs": [],
   "source": [
    "# Varibles to predict Absenteeism time in hours\n",
    "x=absent[['Service time','Weight','Body mass index']]\n",
    "x_labels=['Service time','Weight','Body mass index']\n",
    "y=absent['Absenteeism time in hours']"
   ]
  },
  {
   "cell_type": "markdown",
   "id": "921e0143",
   "metadata": {
    "papermill": {
     "duration": 0.012256,
     "end_time": "2022-08-11T03:00:28.989638",
     "exception": false,
     "start_time": "2022-08-11T03:00:28.977382",
     "status": "completed"
    },
    "tags": []
   },
   "source": [
    "**Spliting Training & Test Data**"
   ]
  },
  {
   "cell_type": "code",
   "execution_count": 15,
   "id": "c7afc661",
   "metadata": {
    "execution": {
     "iopub.execute_input": "2022-08-11T03:00:29.016591Z",
     "iopub.status.busy": "2022-08-11T03:00:29.015863Z",
     "iopub.status.idle": "2022-08-11T03:00:29.021998Z",
     "shell.execute_reply": "2022-08-11T03:00:29.021128Z"
    },
    "papermill": {
     "duration": 0.02223,
     "end_time": "2022-08-11T03:00:29.024258",
     "exception": false,
     "start_time": "2022-08-11T03:00:29.002028",
     "status": "completed"
    },
    "tags": []
   },
   "outputs": [],
   "source": [
    "# 70% training and 30% Test\n",
    "x_train, x_test, y_train, y_test = train_test_split(x, y, test_size=0.3, random_state=42)"
   ]
  },
  {
   "cell_type": "markdown",
   "id": "9e7a4f6b",
   "metadata": {
    "papermill": {
     "duration": 0.012135,
     "end_time": "2022-08-11T03:00:29.048938",
     "exception": false,
     "start_time": "2022-08-11T03:00:29.036803",
     "status": "completed"
    },
    "tags": []
   },
   "source": [
    "**Training and Testing Initial Regression Model**"
   ]
  },
  {
   "cell_type": "code",
   "execution_count": 16,
   "id": "bf870195",
   "metadata": {
    "execution": {
     "iopub.execute_input": "2022-08-11T03:00:29.076295Z",
     "iopub.status.busy": "2022-08-11T03:00:29.075453Z",
     "iopub.status.idle": "2022-08-11T03:00:29.080456Z",
     "shell.execute_reply": "2022-08-11T03:00:29.079477Z"
    },
    "papermill": {
     "duration": 0.021649,
     "end_time": "2022-08-11T03:00:29.082990",
     "exception": false,
     "start_time": "2022-08-11T03:00:29.061341",
     "status": "completed"
    },
    "tags": []
   },
   "outputs": [],
   "source": [
    "# Initialize the linear regression model\n",
    "reg = linear_model.LinearRegression()"
   ]
  },
  {
   "cell_type": "code",
   "execution_count": 17,
   "id": "ba887653",
   "metadata": {
    "execution": {
     "iopub.execute_input": "2022-08-11T03:00:29.110404Z",
     "iopub.status.busy": "2022-08-11T03:00:29.109634Z",
     "iopub.status.idle": "2022-08-11T03:00:29.134505Z",
     "shell.execute_reply": "2022-08-11T03:00:29.133461Z"
    },
    "papermill": {
     "duration": 0.041474,
     "end_time": "2022-08-11T03:00:29.136996",
     "exception": false,
     "start_time": "2022-08-11T03:00:29.095522",
     "status": "completed"
    },
    "tags": []
   },
   "outputs": [
    {
     "name": "stdout",
     "output_type": "stream",
     "text": [
      "(518, 3)\n",
      "(222, 3)\n"
     ]
    }
   ],
   "source": [
    "# Train the model with Training data\n",
    "reg.fit(x_train, y_train)\n",
    "print(x_train.shape);print(x_test.shape)"
   ]
  },
  {
   "cell_type": "code",
   "execution_count": 18,
   "id": "523de92d",
   "metadata": {
    "execution": {
     "iopub.execute_input": "2022-08-11T03:00:29.165458Z",
     "iopub.status.busy": "2022-08-11T03:00:29.164684Z",
     "iopub.status.idle": "2022-08-11T03:00:29.170060Z",
     "shell.execute_reply": "2022-08-11T03:00:29.169216Z"
    },
    "papermill": {
     "duration": 0.022325,
     "end_time": "2022-08-11T03:00:29.173032",
     "exception": false,
     "start_time": "2022-08-11T03:00:29.150707",
     "status": "completed"
    },
    "tags": []
   },
   "outputs": [
    {
     "name": "stdout",
     "output_type": "stream",
     "text": [
      "[-0.06057818  0.0407652  -0.13707181]\n"
     ]
    }
   ],
   "source": [
    "# Print the coefficients/weights for each feature/column of our model\n",
    "print(reg.coef_)"
   ]
  },
  {
   "cell_type": "code",
   "execution_count": 19,
   "id": "120b7dcf",
   "metadata": {
    "execution": {
     "iopub.execute_input": "2022-08-11T03:00:29.201303Z",
     "iopub.status.busy": "2022-08-11T03:00:29.200414Z",
     "iopub.status.idle": "2022-08-11T03:00:29.212505Z",
     "shell.execute_reply": "2022-08-11T03:00:29.210996Z"
    },
    "papermill": {
     "duration": 0.029121,
     "end_time": "2022-08-11T03:00:29.214846",
     "exception": false,
     "start_time": "2022-08-11T03:00:29.185725",
     "status": "completed"
    },
    "tags": []
   },
   "outputs": [
    {
     "name": "stdout",
     "output_type": "stream",
     "text": [
      "[4.5726513  3.86619429 4.42550596 4.35894013 3.88324899 4.97332213\n",
      " 4.5726513  4.72806277 4.3639769  3.88324899 4.22899521 4.69964958\n",
      " 4.35894013 3.88324899 4.5726513  5.34994838 4.5726513  4.5726513\n",
      " 4.35894013 4.42550596 5.42772697 3.86619429 3.88324899 4.25013579\n",
      " 4.5726513  4.29461015 3.88324899 4.53449866 4.53449866 4.3639769\n",
      " 4.3639769  4.5726513  4.3639769  4.25013579 4.97332213 3.88324899\n",
      " 4.19326677 3.86619429 4.1175783  3.93180924 4.68002497 4.3639769\n",
      " 5.42772697 4.20414546 4.74074886 3.88324899 5.34994838 4.42550596\n",
      " 4.35894013 4.72806277 4.6566059  5.19258379 3.86619429 4.41690575\n",
      " 4.1175783  4.3639769  4.36492778 4.42550596 3.771498   4.19326677\n",
      " 4.5726513  4.20414546 3.88324899 4.74074886 4.29461015 4.51938837\n",
      " 4.53449866 4.41690575 3.88324899 4.3639769  3.88324899 4.3639769\n",
      " 3.88324899 4.22899521 4.35894013 4.20414546 4.53449866 3.88324899\n",
      " 5.19258379 4.41690575 4.25968688 4.5726513  3.88324899 4.97332213\n",
      " 4.35894013 3.88324899 4.42550596 4.1175783  4.3639769  4.20414546\n",
      " 3.88324899 4.69964958 4.35894013 3.88324899 4.19326677 3.88324899\n",
      " 3.88324899 4.53449866 4.53449866 3.88324899 3.86619429 4.29461015\n",
      " 4.25968688 4.5726513  3.88324899 3.88324899 4.3639769  3.88324899\n",
      " 4.41690575 4.72806277 3.91964559 4.1175783  4.41690575 4.42550596\n",
      " 4.25013579 4.53449866 4.53449866 3.30606875 3.93180924 4.19326677\n",
      " 4.3639769  4.3639769  3.91964559 5.19258379 4.72806277 4.35894013\n",
      " 4.25013579 4.5726513  4.97332213 4.35894013 4.72806277 4.41690575\n",
      " 3.88324899 3.88324899 4.53449866 4.1175783  3.91964559 4.5726513\n",
      " 4.5726513  4.41690575 4.5726513  4.42550596 5.19258379 4.5726513\n",
      " 3.88324899 4.53449866 5.19258379 3.86619429 5.34994838 4.3639769\n",
      " 4.29461015 4.41690575 4.5726513  4.74074886 4.3639769  3.88324899\n",
      " 3.91964559 4.41690575 4.3639769  4.53449866 4.97332213 3.88324899\n",
      " 4.5726513  4.25013579 4.20414546 4.8580077  4.3639769  4.25013579\n",
      " 4.6566059  4.20414546 5.42772697 4.1175783  4.53449866 4.5726513\n",
      " 4.72806277 4.5726513  4.20414546 4.25013579 3.88324899 4.5726513\n",
      " 4.53449866 4.3639769  3.86619429 5.19258379 3.86619429 5.19258379\n",
      " 4.72806277 4.53449866 3.88324899 4.5726513  4.3639769  3.88324899\n",
      " 4.41690575 4.25013579 4.42550596 4.25013579 3.88324899 4.74074886\n",
      " 4.5726513  4.19326677 4.74074886 5.19258379 4.53449866 4.41690575\n",
      " 4.1175783  4.42550596 4.53449866 4.1175783  3.88324899 4.20414546\n",
      " 4.41690575 4.53449866 3.88324899 3.86619429 4.41690575 4.72806277\n",
      " 3.88324899 5.19258379 4.1175783  4.72806277 4.41690575 4.6566059 ]\n"
     ]
    }
   ],
   "source": [
    "# Print the predictions on the data\n",
    "y_pred = reg.predict(x_test)\n",
    "print(y_pred)"
   ]
  },
  {
   "cell_type": "code",
   "execution_count": 20,
   "id": "4202a77c",
   "metadata": {
    "execution": {
     "iopub.execute_input": "2022-08-11T03:00:29.242396Z",
     "iopub.status.busy": "2022-08-11T03:00:29.241619Z",
     "iopub.status.idle": "2022-08-11T03:00:29.248055Z",
     "shell.execute_reply": "2022-08-11T03:00:29.247284Z"
    },
    "papermill": {
     "duration": 0.023099,
     "end_time": "2022-08-11T03:00:29.250603",
     "exception": false,
     "start_time": "2022-08-11T03:00:29.227504",
     "status": "completed"
    },
    "tags": []
   },
   "outputs": [
    {
     "name": "stdout",
     "output_type": "stream",
     "text": [
      "120    1.0\n",
      "416    4.0\n",
      "334    8.0\n",
      "350    2.0\n",
      "412    4.0\n",
      "      ... \n",
      "360    2.0\n",
      "396    8.0\n",
      "651    2.0\n",
      "275    3.0\n",
      "209    4.0\n",
      "Name: Absenteeism time in hours, Length: 222, dtype: float64\n"
     ]
    }
   ],
   "source": [
    "# Print the actual values\n",
    "print(y_test)"
   ]
  },
  {
   "cell_type": "code",
   "execution_count": 21,
   "id": "3e52d39e",
   "metadata": {
    "execution": {
     "iopub.execute_input": "2022-08-11T03:00:29.278075Z",
     "iopub.status.busy": "2022-08-11T03:00:29.277355Z",
     "iopub.status.idle": "2022-08-11T03:00:29.283244Z",
     "shell.execute_reply": "2022-08-11T03:00:29.282430Z"
    },
    "papermill": {
     "duration": 0.023114,
     "end_time": "2022-08-11T03:00:29.286416",
     "exception": false,
     "start_time": "2022-08-11T03:00:29.263302",
     "status": "completed"
    },
    "tags": []
   },
   "outputs": [
    {
     "name": "stdout",
     "output_type": "stream",
     "text": [
      "8.337573750601369\n"
     ]
    }
   ],
   "source": [
    "# Checking the performance/Accuracy of the Model using MEAN SQUARE ERROR (MSE)\n",
    "print(np.mean( (y_pred - y_test)**2))\n",
    "\n",
    "# This number should be as close to Zero as possible.\n",
    "# This model is very bad."
   ]
  },
  {
   "cell_type": "code",
   "execution_count": 22,
   "id": "26239d7c",
   "metadata": {
    "execution": {
     "iopub.execute_input": "2022-08-11T03:00:29.315057Z",
     "iopub.status.busy": "2022-08-11T03:00:29.314289Z",
     "iopub.status.idle": "2022-08-11T03:00:29.322653Z",
     "shell.execute_reply": "2022-08-11T03:00:29.321723Z"
    },
    "papermill": {
     "duration": 0.025073,
     "end_time": "2022-08-11T03:00:29.324971",
     "exception": false,
     "start_time": "2022-08-11T03:00:29.299898",
     "status": "completed"
    },
    "tags": []
   },
   "outputs": [
    {
     "name": "stdout",
     "output_type": "stream",
     "text": [
      "8.337573750601369\n",
      "coeffcient of determination: 0.019968864641278672\n"
     ]
    }
   ],
   "source": [
    "# Checking the performance/Accuracy of the Model using MEAN SQUARE ERROR (MSE)and sllearn.metrics\n",
    "print(mean_squared_error(y_test,y_pred))\n",
    "r_sq = reg.score(x_train, y_train)\n",
    "print('coeffcient of determination:', r_sq)"
   ]
  },
  {
   "cell_type": "markdown",
   "id": "3dd0048e",
   "metadata": {
    "papermill": {
     "duration": 0.012619,
     "end_time": "2022-08-11T03:00:29.350567",
     "exception": false,
     "start_time": "2022-08-11T03:00:29.337948",
     "status": "completed"
    },
    "tags": []
   },
   "source": [
    "****Build Model 1 - Linear Regression ****"
   ]
  },
  {
   "cell_type": "code",
   "execution_count": 23,
   "id": "da3e2e76",
   "metadata": {
    "execution": {
     "iopub.execute_input": "2022-08-11T03:00:29.379323Z",
     "iopub.status.busy": "2022-08-11T03:00:29.377856Z",
     "iopub.status.idle": "2022-08-11T03:00:29.390859Z",
     "shell.execute_reply": "2022-08-11T03:00:29.389847Z"
    },
    "papermill": {
     "duration": 0.029803,
     "end_time": "2022-08-11T03:00:29.393228",
     "exception": false,
     "start_time": "2022-08-11T03:00:29.363425",
     "status": "completed"
    },
    "tags": []
   },
   "outputs": [
    {
     "data": {
      "text/plain": [
       "LinearRegression()"
      ]
     },
     "execution_count": 23,
     "metadata": {},
     "output_type": "execute_result"
    }
   ],
   "source": [
    "from sklearn.linear_model import LinearRegression\n",
    "\n",
    "lr = LinearRegression()\n",
    "lr.fit(x_train, y_train)"
   ]
  },
  {
   "cell_type": "code",
   "execution_count": 24,
   "id": "d08cb835",
   "metadata": {
    "execution": {
     "iopub.execute_input": "2022-08-11T03:00:29.421997Z",
     "iopub.status.busy": "2022-08-11T03:00:29.420996Z",
     "iopub.status.idle": "2022-08-11T03:00:29.430965Z",
     "shell.execute_reply": "2022-08-11T03:00:29.429525Z"
    },
    "papermill": {
     "duration": 0.027379,
     "end_time": "2022-08-11T03:00:29.434037",
     "exception": false,
     "start_time": "2022-08-11T03:00:29.406658",
     "status": "completed"
    },
    "tags": []
   },
   "outputs": [
    {
     "name": "stdout",
     "output_type": "stream",
     "text": [
      "2.8758489974685286\n",
      "0.019968864641278672\n"
     ]
    }
   ],
   "source": [
    "# Define Model - Output\n",
    "pred_train_lr= lr.predict(x_train)\n",
    "print(np.sqrt(mean_squared_error(y_train,pred_train_lr)))\n",
    "print(r2_score(y_train, pred_train_lr))"
   ]
  },
  {
   "cell_type": "code",
   "execution_count": 25,
   "id": "81c4d3eb",
   "metadata": {
    "execution": {
     "iopub.execute_input": "2022-08-11T03:00:29.464008Z",
     "iopub.status.busy": "2022-08-11T03:00:29.463017Z",
     "iopub.status.idle": "2022-08-11T03:00:29.474175Z",
     "shell.execute_reply": "2022-08-11T03:00:29.472469Z"
    },
    "papermill": {
     "duration": 0.028589,
     "end_time": "2022-08-11T03:00:29.476613",
     "exception": false,
     "start_time": "2022-08-11T03:00:29.448024",
     "status": "completed"
    },
    "tags": []
   },
   "outputs": [
    {
     "name": "stdout",
     "output_type": "stream",
     "text": [
      "2.8874857143545087\n",
      "-0.025270620924239928\n",
      "interceptor: 5.594779647694555\n",
      "slope: [-0.06057818  0.0407652  -0.13707181]\n"
     ]
    }
   ],
   "source": [
    "pred_test_lr= lr.predict(x_test)\n",
    "print(np.sqrt(mean_squared_error(y_test,pred_test_lr)))\n",
    "print(r2_score(y_test, pred_test_lr))\n",
    "print('interceptor:', reg.intercept_)\n",
    "print('slope:', reg.coef_)"
   ]
  },
  {
   "cell_type": "markdown",
   "id": "ae368abd",
   "metadata": {
    "papermill": {
     "duration": 0.013058,
     "end_time": "2022-08-11T03:00:29.503041",
     "exception": false,
     "start_time": "2022-08-11T03:00:29.489983",
     "status": "completed"
    },
    "tags": []
   },
   "source": [
    "**Build Model 2 - Lasso**"
   ]
  },
  {
   "cell_type": "code",
   "execution_count": 26,
   "id": "95d11d41",
   "metadata": {
    "execution": {
     "iopub.execute_input": "2022-08-11T03:00:29.532371Z",
     "iopub.status.busy": "2022-08-11T03:00:29.531924Z",
     "iopub.status.idle": "2022-08-11T03:00:29.545063Z",
     "shell.execute_reply": "2022-08-11T03:00:29.544243Z"
    },
    "papermill": {
     "duration": 0.030548,
     "end_time": "2022-08-11T03:00:29.547638",
     "exception": false,
     "start_time": "2022-08-11T03:00:29.517090",
     "status": "completed"
    },
    "tags": []
   },
   "outputs": [
    {
     "name": "stdout",
     "output_type": "stream",
     "text": [
      "2.8758581145985227\n",
      "0.01996265076465986\n"
     ]
    }
   ],
   "source": [
    "#Initialize model\n",
    "model_lasso = Lasso(alpha=0.01)\n",
    "model_lasso.fit(x_train, y_train)\n",
    "pred_train_lasso= model_lasso.predict(x_train)\n",
    "print(np.sqrt(mean_squared_error(y_train,pred_train_lasso)))\n",
    "print(r2_score(y_train, pred_train_lasso))"
   ]
  },
  {
   "cell_type": "code",
   "execution_count": 27,
   "id": "58b61d27",
   "metadata": {
    "execution": {
     "iopub.execute_input": "2022-08-11T03:00:29.576567Z",
     "iopub.status.busy": "2022-08-11T03:00:29.575684Z",
     "iopub.status.idle": "2022-08-11T03:00:29.585079Z",
     "shell.execute_reply": "2022-08-11T03:00:29.583796Z"
    },
    "papermill": {
     "duration": 0.027381,
     "end_time": "2022-08-11T03:00:29.588392",
     "exception": false,
     "start_time": "2022-08-11T03:00:29.561011",
     "status": "completed"
    },
    "tags": []
   },
   "outputs": [
    {
     "name": "stdout",
     "output_type": "stream",
     "text": [
      "2.8869290887057524\n",
      "-0.024875372618734515\n"
     ]
    }
   ],
   "source": [
    "pred_test_lasso= model_lasso.predict(x_test)\n",
    "print(np.sqrt(mean_squared_error(y_test,pred_test_lasso)))\n",
    "print(r2_score(y_test, pred_test_lasso))"
   ]
  },
  {
   "cell_type": "markdown",
   "id": "a14149af",
   "metadata": {
    "papermill": {
     "duration": 0.012968,
     "end_time": "2022-08-11T03:00:29.615407",
     "exception": false,
     "start_time": "2022-08-11T03:00:29.602439",
     "status": "completed"
    },
    "tags": []
   },
   "source": [
    "**Build Model 3 - Decision Tree**"
   ]
  },
  {
   "cell_type": "code",
   "execution_count": 28,
   "id": "0a1663ba",
   "metadata": {
    "execution": {
     "iopub.execute_input": "2022-08-11T03:00:29.644369Z",
     "iopub.status.busy": "2022-08-11T03:00:29.643640Z",
     "iopub.status.idle": "2022-08-11T03:00:29.654737Z",
     "shell.execute_reply": "2022-08-11T03:00:29.653456Z"
    },
    "papermill": {
     "duration": 0.028262,
     "end_time": "2022-08-11T03:00:29.656949",
     "exception": false,
     "start_time": "2022-08-11T03:00:29.628687",
     "status": "completed"
    },
    "tags": []
   },
   "outputs": [
    {
     "data": {
      "text/plain": [
       "DecisionTreeRegressor(max_depth=8, min_samples_leaf=0.13, random_state=3)"
      ]
     },
     "execution_count": 28,
     "metadata": {},
     "output_type": "execute_result"
    }
   ],
   "source": [
    "#Initialize model\n",
    "dtree = DecisionTreeRegressor(max_depth=8, min_samples_leaf=0.13, random_state=3)\n",
    "dtree.fit(x_train, y_train)"
   ]
  },
  {
   "cell_type": "code",
   "execution_count": 29,
   "id": "2878ba7c",
   "metadata": {
    "execution": {
     "iopub.execute_input": "2022-08-11T03:00:29.687567Z",
     "iopub.status.busy": "2022-08-11T03:00:29.686685Z",
     "iopub.status.idle": "2022-08-11T03:00:29.696244Z",
     "shell.execute_reply": "2022-08-11T03:00:29.694763Z"
    },
    "papermill": {
     "duration": 0.027652,
     "end_time": "2022-08-11T03:00:29.698557",
     "exception": false,
     "start_time": "2022-08-11T03:00:29.670905",
     "status": "completed"
    },
    "tags": []
   },
   "outputs": [
    {
     "name": "stdout",
     "output_type": "stream",
     "text": [
      "2.7972159350231953\n",
      "0.03783221561254968\n"
     ]
    }
   ],
   "source": [
    "# Model Performance on Test Data\n",
    "\n",
    "pred_test_tree= dtree.predict(x_test)\n",
    "print(np.sqrt(mean_squared_error(y_test,pred_test_tree)))\n",
    "print(r2_score(y_test, pred_test_tree))"
   ]
  },
  {
   "cell_type": "code",
   "execution_count": 30,
   "id": "59f66d1b",
   "metadata": {
    "execution": {
     "iopub.execute_input": "2022-08-11T03:00:29.733972Z",
     "iopub.status.busy": "2022-08-11T03:00:29.732898Z",
     "iopub.status.idle": "2022-08-11T03:00:29.748646Z",
     "shell.execute_reply": "2022-08-11T03:00:29.747591Z"
    },
    "papermill": {
     "duration": 0.039229,
     "end_time": "2022-08-11T03:00:29.751296",
     "exception": false,
     "start_time": "2022-08-11T03:00:29.712067",
     "status": "completed"
    },
    "tags": []
   },
   "outputs": [],
   "source": [
    "# Improve the model by tuning the parameters ('max depth of 2 & 5')\n",
    "\n",
    "dtree1 = DecisionTreeRegressor(max_depth=2)\n",
    "dtree2 = DecisionTreeRegressor(max_depth=5)\n",
    "dtree1.fit(x_train, y_train)\n",
    "dtree2.fit(x_train, y_train)\n",
    "\n",
    "tr1 = dtree1.predict(x_train)\n",
    "tr2 = dtree2.predict(x_train)\n",
    "\n",
    "y1 = dtree1.predict(x_test)\n",
    "y2 = dtree2.predict(x_test)"
   ]
  },
  {
   "cell_type": "code",
   "execution_count": 31,
   "id": "df491151",
   "metadata": {
    "execution": {
     "iopub.execute_input": "2022-08-11T03:00:29.780283Z",
     "iopub.status.busy": "2022-08-11T03:00:29.779532Z",
     "iopub.status.idle": "2022-08-11T03:00:29.787328Z",
     "shell.execute_reply": "2022-08-11T03:00:29.785980Z"
    },
    "papermill": {
     "duration": 0.025865,
     "end_time": "2022-08-11T03:00:29.790602",
     "exception": false,
     "start_time": "2022-08-11T03:00:29.764737",
     "status": "completed"
    },
    "tags": []
   },
   "outputs": [
    {
     "name": "stdout",
     "output_type": "stream",
     "text": [
      "2.761705472488049\n",
      "0.0962206026779312\n"
     ]
    }
   ],
   "source": [
    "# Print RMSE and R-squared value for regression tree 'dtree1' on training data\n",
    "print(np.sqrt(mean_squared_error(y_train,tr1)))\n",
    "print(r2_score(y_train, tr1))"
   ]
  },
  {
   "cell_type": "code",
   "execution_count": 32,
   "id": "c89b4e9c",
   "metadata": {
    "execution": {
     "iopub.execute_input": "2022-08-11T03:00:29.820164Z",
     "iopub.status.busy": "2022-08-11T03:00:29.819482Z",
     "iopub.status.idle": "2022-08-11T03:00:29.826851Z",
     "shell.execute_reply": "2022-08-11T03:00:29.825764Z"
    },
    "papermill": {
     "duration": 0.02468,
     "end_time": "2022-08-11T03:00:29.829271",
     "exception": false,
     "start_time": "2022-08-11T03:00:29.804591",
     "status": "completed"
    },
    "tags": []
   },
   "outputs": [
    {
     "name": "stdout",
     "output_type": "stream",
     "text": [
      "2.8428133629117975\n",
      "0.006207944136604193\n"
     ]
    }
   ],
   "source": [
    "# Print RMSE and R-squared value for regression tree 'dtree1' on testing data\n",
    "print(np.sqrt(mean_squared_error(y_test,y1)))\n",
    "print(r2_score(y_test, y1))"
   ]
  },
  {
   "cell_type": "code",
   "execution_count": 33,
   "id": "6af430fb",
   "metadata": {
    "execution": {
     "iopub.execute_input": "2022-08-11T03:00:29.858940Z",
     "iopub.status.busy": "2022-08-11T03:00:29.857744Z",
     "iopub.status.idle": "2022-08-11T03:00:29.865925Z",
     "shell.execute_reply": "2022-08-11T03:00:29.864565Z"
    },
    "papermill": {
     "duration": 0.02575,
     "end_time": "2022-08-11T03:00:29.868739",
     "exception": false,
     "start_time": "2022-08-11T03:00:29.842989",
     "status": "completed"
    },
    "tags": []
   },
   "outputs": [
    {
     "name": "stdout",
     "output_type": "stream",
     "text": [
      "2.6177912997554635\n",
      "0.1879593768352632\n"
     ]
    }
   ],
   "source": [
    "# Print RMSE and R-squared value for regression tree 'dtree2' on training data\n",
    "print(np.sqrt(mean_squared_error(y_train,tr2)))\n",
    "print(r2_score(y_train, tr2))"
   ]
  },
  {
   "cell_type": "code",
   "execution_count": 34,
   "id": "69278041",
   "metadata": {
    "execution": {
     "iopub.execute_input": "2022-08-11T03:00:29.897999Z",
     "iopub.status.busy": "2022-08-11T03:00:29.897151Z",
     "iopub.status.idle": "2022-08-11T03:00:29.904476Z",
     "shell.execute_reply": "2022-08-11T03:00:29.903286Z"
    },
    "papermill": {
     "duration": 0.024665,
     "end_time": "2022-08-11T03:00:29.907367",
     "exception": false,
     "start_time": "2022-08-11T03:00:29.882702",
     "status": "completed"
    },
    "tags": []
   },
   "outputs": [
    {
     "name": "stdout",
     "output_type": "stream",
     "text": [
      "2.7884139798003345\n",
      "0.04387796494591578\n"
     ]
    }
   ],
   "source": [
    "# Print RMSE and R-squared value for regression tree 'dtree2' on testing data\n",
    "print(np.sqrt(mean_squared_error(y_test,y2)))\n",
    "print(r2_score(y_test, y2))"
   ]
  }
 ],
 "metadata": {
  "kernelspec": {
   "display_name": "Python 3",
   "language": "python",
   "name": "python3"
  },
  "language_info": {
   "codemirror_mode": {
    "name": "ipython",
    "version": 3
   },
   "file_extension": ".py",
   "mimetype": "text/x-python",
   "name": "python",
   "nbconvert_exporter": "python",
   "pygments_lexer": "ipython3",
   "version": "3.7.12"
  },
  "papermill": {
   "default_parameters": {},
   "duration": 16.167735,
   "end_time": "2022-08-11T03:00:30.744118",
   "environment_variables": {},
   "exception": null,
   "input_path": "__notebook__.ipynb",
   "output_path": "__notebook__.ipynb",
   "parameters": {},
   "start_time": "2022-08-11T03:00:14.576383",
   "version": "2.3.4"
  }
 },
 "nbformat": 4,
 "nbformat_minor": 5
}
